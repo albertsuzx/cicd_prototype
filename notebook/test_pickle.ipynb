{
 "cells": [
  {
   "cell_type": "code",
   "execution_count": 1,
   "metadata": {},
   "outputs": [],
   "source": [
    "# import necessary modules for testing purpose\n",
    "import pickle\n",
    "import pandas as pd\n",
    "import numpy as np\n",
    "\n",
    "# Load data and save indices of columns\n",
    "df = pd.read_excel(\"../data/dev.xlsx\",converters={'MostRecentApp_No_Grp':str})"
   ]
  },
  {
   "cell_type": "markdown",
   "metadata": {},
   "source": [
    "# Standard unpickle solution\n",
    "This works now after we use a .py file to store corresponding funcs into pickles. Previously I tried to store them using jupyter notebook, which results in problems at point of unpickling."
   ]
  },
  {
   "cell_type": "code",
   "execution_count": 2,
   "metadata": {},
   "outputs": [
    {
     "name": "stdout",
     "output_type": "stream",
     "text": [
      "<=-3816\n"
     ]
    }
   ],
   "source": [
    "# test over_cycle_pay_to_group function could be loaded and give right output\n",
    "over_cycle_pay_to_group = pickle.load(open('../app/data/over_cycle_pay_to_group.pickle', 'rb'))\n",
    "print(over_cycle_pay_to_group(-5000))"
   ]
  },
  {
   "cell_type": "code",
   "execution_count": 8,
   "metadata": {},
   "outputs": [
    {
     "name": "stdout",
     "output_type": "stream",
     "text": [
      "0 - missing\n",
      "1-9\n",
      "<class 'numpy.ndarray'>\n",
      "10-20\n",
      "21 and +\n"
     ]
    }
   ],
   "source": [
    "# test inq_main_to_group function could be loaded and give right output\n",
    "inq_main_to_group = pickle.load(open('../app/data/func_feature2group_inq_main_to_group.pickle', 'rb'))\n",
    "print(inq_main_to_group(0))\n",
    "print(inq_main_to_group(1))\n",
    "print(type(inq_main_to_group(1)))\n",
    "print(inq_main_to_group(12))\n",
    "print(inq_main_to_group(21))"
   ]
  },
  {
   "cell_type": "code",
   "execution_count": 4,
   "metadata": {
    "collapsed": true
   },
   "outputs": [
    {
     "name": "stdout",
     "output_type": "stream",
     "text": [
      "\n",
      "    This function is relying on woe package and will calculate woe for a grouped variable\n",
      "    :param df: dataframe containing grouped variables and target variable\n",
      "    :param group_var: group variable to be used for calculating woe\n",
      "    :param global_bt: total number of bads\n",
      "    :param global_gt: total number of goods\n",
      "    :param min_sample: min volume of sample in one bin\n",
      "    :param alpha: min IV improvement needed for re-binning\n",
      "    :return: panda series containing woe value calcualted from the original group info\n",
      "    \n"
     ]
    },
    {
     "data": {
      "text/plain": [
       "0       -0.134188\n",
       "1       -0.134188\n",
       "2       -0.134188\n",
       "3       -0.134188\n",
       "4       -0.134188\n",
       "           ...   \n",
       "15095   -0.134188\n",
       "15096   -0.134188\n",
       "15097   -0.134188\n",
       "15098   -0.134188\n",
       "15099   -0.134188\n",
       "Name: Rem2Month_flag_MonthsSince_Grp, Length: 15100, dtype: float64"
      ]
     },
     "execution_count": 4,
     "metadata": {},
     "output_type": "execute_result"
    }
   ],
   "source": [
    "# test group_to_woe function works properly\n",
    "group_to_woe = pickle.load(open('../app/data/group_to_woe.pickle', 'rb'))\n",
    "\n",
    "print(group_to_woe.__doc__)\n",
    "\n",
    "# define the total bad and good volume\n",
    "total_bad = np.sum(df.target == 1)\n",
    "total_good = np.sum(df.target == 0)\n",
    "group_to_woe(df, 'Rem2Month_flag_MonthsSince_Grp', total_bad, total_good)"
   ]
  },
  {
   "cell_type": "code",
   "execution_count": 5,
   "metadata": {},
   "outputs": [
    {
     "name": "stdout",
     "output_type": "stream",
     "text": [
      "['uc_woe', 'pmt_woe', 'cust_app_woe', 'land_woe', 'remain_pctg_woe', 'rem2_past_woe']\n",
      "{'penalty': 'l2', 'dual': False, 'tol': 0.0001, 'C': 1.0, 'fit_intercept': True, 'intercept_scaling': 1, 'class_weight': None, 'random_state': None, 'solver': 'liblinear', 'max_iter': 100, 'multi_class': 'warn', 'verbose': 0, 'warm_start': False, 'n_jobs': None, 'l1_ratio': None, 'classes_': array([0, 1], dtype=int64), 'coef_': array([[0.38864868, 0.72627931, 0.69106253, 0.69807196, 0.83074297,\n",
      "        0.57339894]]), 'intercept_': array([-2.26939282]), 'n_iter_': array([6])}\n"
     ]
    }
   ],
   "source": [
    "# load in list of features\n",
    "features = pickle.load(open('../app/data/features.pickle', 'rb'))\n",
    "print(features)\n",
    "\n",
    "# load in final model fit\n",
    "model = pickle.load(open('../app/data/model.pickle', 'rb'))\n",
    "print(model.__dict__)"
   ]
  },
  {
   "cell_type": "markdown",
   "metadata": {},
   "source": [
    "# Customized unpickler solution\n",
    "This solution is not needed after adjustment at the point of serialization.\n",
    "The adjustment is to use save_func_to_pickle.py to store the corresponding functions so the name space is correctly defined."
   ]
  },
  {
   "cell_type": "code",
   "execution_count": 2,
   "metadata": {},
   "outputs": [],
   "source": [
    "class MyCustomUnpickler(pickle.Unpickler):\n",
    "    def find_class(self, module, name):\n",
    "        if module == \"__main__\":\n",
    "            module = \"model\"\n",
    "        return super().find_class(module, name)"
   ]
  },
  {
   "cell_type": "code",
   "execution_count": 3,
   "metadata": {},
   "outputs": [
    {
     "name": "stdout",
     "output_type": "stream",
     "text": [
      "Input 0:  0 - missing\n",
      "Input 1:  1-9\n",
      "Input 12:  10-20\n",
      "Input 21:  21 and +\n"
     ]
    }
   ],
   "source": [
    "with open('../app/data/inq_main_to_group.pickle', 'rb') as f:\n",
    "    unpickler = MyCustomUnpickler(f)\n",
    "    inq_main_to_group = unpickler.load()\n",
    "\n",
    "# Print test result\n",
    "print(\"Input 0: \", inq_main_to_group(0))\n",
    "print(\"Input 1: \", inq_main_to_group(1))\n",
    "print(\"Input 12: \", inq_main_to_group(12))\n",
    "print(\"Input 21: \", inq_main_to_group(21))"
   ]
  },
  {
   "cell_type": "code",
   "execution_count": 6,
   "metadata": {},
   "outputs": [
    {
     "name": "stdout",
     "output_type": "stream",
     "text": [
      "\n",
      "    This function is relying on woe package and will calculate woe for a grouped variable\n",
      "    :param df: dataframe containing grouped variables and target variable\n",
      "    :param group_var: group variable to be used for calculating woe\n",
      "    :param global_bt: total number of bads\n",
      "    :param global_gt: total number of goods\n",
      "    :param min_sample: min volume of sample in one bin\n",
      "    :param alpha: min IV improvement needed for re-binning\n",
      "    :return: panda series containing woe value calcualted from the original group info\n",
      "    \n"
     ]
    },
    {
     "data": {
      "text/plain": [
       "0       -0.134188\n",
       "1       -0.134188\n",
       "2       -0.134188\n",
       "3       -0.134188\n",
       "4       -0.134188\n",
       "           ...   \n",
       "15095   -0.134188\n",
       "15096   -0.134188\n",
       "15097   -0.134188\n",
       "15098   -0.134188\n",
       "15099   -0.134188\n",
       "Name: Rem2Month_flag_MonthsSince_Grp, Length: 15100, dtype: float64"
      ]
     },
     "execution_count": 6,
     "metadata": {},
     "output_type": "execute_result"
    }
   ],
   "source": [
    "with open('../app/data/group_to_woe.pickle', 'rb') as f:\n",
    "    unpickler = MyCustomUnpickler(f)\n",
    "    group_to_woe = unpickler.load()\n",
    "\n",
    "print(group_to_woe.__doc__)\n",
    "\n",
    "# define the total bad and good volume\n",
    "total_bad = np.sum(df.target == 1)\n",
    "total_good = np.sum(df.target == 0)\n",
    "group_to_woe(df, 'Rem2Month_flag_MonthsSince_Grp', total_bad, total_good)"
   ]
  },
  {
   "cell_type": "code",
   "execution_count": 9,
   "metadata": {},
   "outputs": [
    {
     "name": "stdout",
     "output_type": "stream",
     "text": [
      "['uc_woe', 'pmt_woe', 'cust_app_woe', 'land_woe', 'remain_pctg_woe', 'rem2_past_woe']\n"
     ]
    }
   ],
   "source": [
    "# load in list of features\n",
    "features = pickle.load(open('../app/data/features.pickle', 'rb'))\n",
    "print(features)"
   ]
  },
  {
   "cell_type": "code",
   "execution_count": 10,
   "metadata": {},
   "outputs": [
    {
     "name": "stdout",
     "output_type": "stream",
     "text": [
      "{'penalty': 'l2', 'dual': False, 'tol': 0.0001, 'C': 1.0, 'fit_intercept': True, 'intercept_scaling': 1, 'class_weight': None, 'random_state': None, 'solver': 'liblinear', 'max_iter': 100, 'multi_class': 'warn', 'verbose': 0, 'warm_start': False, 'n_jobs': None, 'l1_ratio': None, 'classes_': array([0, 1], dtype=int64), 'coef_': array([[0.38864868, 0.72627931, 0.69106253, 0.69807196, 0.83074297,\n",
      "        0.57339894]]), 'intercept_': array([-2.26939282]), 'n_iter_': array([6])}\n"
     ]
    }
   ],
   "source": [
    "# load in final model fit\n",
    "model = pickle.load(open('../app/data/model.pickle', 'rb'))\n",
    "print(model.__dict__)"
   ]
  }
 ],
 "metadata": {
  "kernelspec": {
   "display_name": "Python 3",
   "language": "python",
   "name": "python3"
  },
  "language_info": {
   "codemirror_mode": {
    "name": "ipython",
    "version": 3
   },
   "file_extension": ".py",
   "mimetype": "text/x-python",
   "name": "python",
   "nbconvert_exporter": "python",
   "pygments_lexer": "ipython3",
   "version": "3.6.9"
  },
  "toc": {
   "base_numbering": 1,
   "nav_menu": {},
   "number_sections": true,
   "sideBar": true,
   "skip_h1_title": false,
   "title_cell": "Table of Contents",
   "title_sidebar": "Contents",
   "toc_cell": false,
   "toc_position": {},
   "toc_section_display": true,
   "toc_window_display": true
  }
 },
 "nbformat": 4,
 "nbformat_minor": 2
}
